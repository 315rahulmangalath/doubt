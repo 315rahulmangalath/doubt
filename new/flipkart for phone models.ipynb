{
 "cells": [
  {
   "cell_type": "code",
   "execution_count": 3,
   "id": "e4cf26c4",
   "metadata": {},
   "outputs": [],
   "source": [
    "#importing libraries\n",
    "\n",
    "import selenium\n",
    "import pandas as pd\n",
    "import time\n",
    "from selenium.webdriver.common.by import By\n",
    "\n",
    "\n",
    "import warnings\n",
    "warnings.filterwarnings('ignore')\n",
    "\n",
    "pd.set_option(\"display.max_rows\", 100)"
   ]
  },
  {
   "cell_type": "code",
   "execution_count": 17,
   "id": "91331931",
   "metadata": {},
   "outputs": [],
   "source": [
    "from selenium.common.exceptions import NoSuchElementException"
   ]
  },
  {
   "cell_type": "code",
   "execution_count": 6,
   "id": "9eebf218",
   "metadata": {},
   "outputs": [],
   "source": [
    "#importing the selenium webdriver\n",
    "from selenium import webdriver\n",
    "\n",
    "#Activating chrome browser\n",
    "driver=webdriver.Chrome(\"Chromedriver.exe\")\n",
    "\n",
    "#lets Automate the searchbar\n",
    "driver.maximize_window()"
   ]
  },
  {
   "cell_type": "code",
   "execution_count": 9,
   "id": "1775ac0c",
   "metadata": {},
   "outputs": [],
   "source": [
    "from selenium.webdriver.support.ui import WebDriverWait\n",
    "from selenium.webdriver.support import expected_conditions as EC\n",
    "\n"
   ]
  },
  {
   "cell_type": "code",
   "execution_count": 10,
   "id": "d7472c32",
   "metadata": {},
   "outputs": [],
   "source": [
    "#operating the homepage of \n",
    "driver.get('https://www.flipkart.com/')\n",
    "time.sleep(3)"
   ]
  },
  {
   "cell_type": "code",
   "execution_count": 11,
   "id": "c30678ca",
   "metadata": {},
   "outputs": [],
   "source": [
    "#removing login popup\n",
    "product_search=driver.find_element(By.XPATH,'//button[@class=\"_2KpZ6l _2doB4z\"]')\n",
    "product_search.click()"
   ]
  },
  {
   "cell_type": "code",
   "execution_count": 12,
   "id": "5ab06b31",
   "metadata": {},
   "outputs": [],
   "source": [
    "#Entering “oneplus” in the search field \n",
    "product_search=driver.find_element(By.CLASS_NAME,\"_3704LK\")\n",
    "product_search.send_keys(\"Oneplus Nord\")"
   ]
  },
  {
   "cell_type": "code",
   "execution_count": 13,
   "id": "fcd385f4",
   "metadata": {},
   "outputs": [],
   "source": [
    "#clicking thesearch\n",
    "search_btn=driver.find_element(By.XPATH,'//button[@class=\"L0Z3Pu\"]')\n",
    "search_btn.click()\n",
    "time.sleep(3)"
   ]
  },
  {
   "cell_type": "code",
   "execution_count": 14,
   "id": "e5d38b07",
   "metadata": {},
   "outputs": [],
   "source": [
    "Brand=[]\n",
    "Smartphone=[]\n",
    "Colour=[]\n",
    "RAM=[]\n",
    "ROM=[]\n",
    "Primary_Camera=[]\n",
    "Secondary_Camera=[]\n",
    "Display_Size=[]\n",
    "Battery_Capacity=[]\n",
    "Price=[]\n",
    "URL=[]"
   ]
  },
  {
   "cell_type": "code",
   "execution_count": 143,
   "id": "71020907",
   "metadata": {},
   "outputs": [],
   "source": [
    "#clicking the initial result of the model\n",
    "y= driver.find_element(By.XPATH,'//a[@class=\"_1fQZEK\"]')\n",
    "x=y.click()\n",
    "time.sleep(3)\n",
    "\n",
    "#we will check one link and do loop for the rest of the links"
   ]
  },
  {
   "cell_type": "code",
   "execution_count": 18,
   "id": "23a062b2",
   "metadata": {},
   "outputs": [
    {
     "name": "stdout",
     "output_type": "stream",
     "text": [
      "exception raised: Message: no such element: Unable to locate element: {\"method\":\"xpath\",\"selector\":\"//li[@class=\"_21Ahn-\"]\"}\n",
      "  (Session info: chrome=107.0.5304.107)\n",
      "Stacktrace:\n",
      "Backtrace:\n",
      "\tOrdinal0 [0x00FEACD3+2075859]\n",
      "\tOrdinal0 [0x00F7EE61+1633889]\n",
      "\tOrdinal0 [0x00E7B7BD+571325]\n",
      "\tOrdinal0 [0x00EAAC2F+764975]\n",
      "\tOrdinal0 [0x00EAAE1B+765467]\n",
      "\tOrdinal0 [0x00EDD0F2+970994]\n",
      "\tOrdinal0 [0x00EC7364+881508]\n",
      "\tOrdinal0 [0x00EDB56A+963946]\n",
      "\tOrdinal0 [0x00EC7136+880950]\n",
      "\tOrdinal0 [0x00E9FEFD+720637]\n",
      "\tOrdinal0 [0x00EA0F3F+724799]\n",
      "\tGetHandleVerifier [0x0129EED2+2769538]\n",
      "\tGetHandleVerifier [0x01290D95+2711877]\n",
      "\tGetHandleVerifier [0x0107A03A+521194]\n",
      "\tGetHandleVerifier [0x01078DA0+516432]\n",
      "\tOrdinal0 [0x00F8682C+1665068]\n",
      "\tOrdinal0 [0x00F8B128+1683752]\n",
      "\tOrdinal0 [0x00F8B215+1683989]\n",
      "\tOrdinal0 [0x00F96484+1729668]\n",
      "\tBaseThreadInitThunk [0x75457BA9+25]\n",
      "\tRtlInitializeExceptionChain [0x771EBB3B+107]\n",
      "\tRtlClearBits [0x771EBABF+191]\n",
      "\n"
     ]
    }
   ],
   "source": [
    "try:\n",
    "    data = driver.find_element(By.XPATH,'//li[@class=\"_21Ahn-\"]')\n",
    "    print(data.text)\n",
    "except NoSuchElementException as e:\n",
    "    print(\"exception raised:\",e)"
   ]
  },
  {
   "cell_type": "code",
   "execution_count": null,
   "id": "d81f3a6f",
   "metadata": {},
   "outputs": [],
   "source": []
  }
 ],
 "metadata": {
  "kernelspec": {
   "display_name": "Python 3 (ipykernel)",
   "language": "python",
   "name": "python3"
  },
  "language_info": {
   "codemirror_mode": {
    "name": "ipython",
    "version": 3
   },
   "file_extension": ".py",
   "mimetype": "text/x-python",
   "name": "python",
   "nbconvert_exporter": "python",
   "pygments_lexer": "ipython3",
   "version": "3.9.12"
  }
 },
 "nbformat": 4,
 "nbformat_minor": 5
}
