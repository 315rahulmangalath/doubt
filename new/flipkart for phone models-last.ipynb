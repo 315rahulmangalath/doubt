{
 "cells": [
  {
   "cell_type": "raw",
   "id": "9ffa1a75",
   "metadata": {},
   "source": [
    "4. Write a python program to search for a smartphone(e.g.: Oneplus Nord, pixel 4A, etc.) on\n",
    "www.flipkart.com and scrape following details for all the search results displayed on 1st page. Details to be \n",
    "scraped: “Brand Name”, “Smartphone name”, “Colour”, “RAM”, “Storage(ROM)”, “Primary Camera”, \n",
    "“Secondary Camera”, “Display Size”, “Battery Capacity”, “Price”, “Product URL”. Incase if any of the \n",
    "details is missing then replace it by “- “. Save your results in a dataframe and CSV.\n"
   ]
  },
  {
   "cell_type": "markdown",
   "id": "0ffd8797",
   "metadata": {},
   "source": [
    "Details to be scraped: “Brand Name”, “Smartphone name”, “Colour”, “RAM”, “Storage(ROM)”, “Primary Camera”, “Secondary Camera”, “Display Size”, “Display Resolution”, “Processor”, “Processor Cores”, “Battery Capacity”, “Price”, “Product URL”. Incase if any of the details is missing then replace it by “- “. Save your results in a dataframe and CSV."
   ]
  },
  {
   "cell_type": "code",
   "execution_count": 176,
   "id": "362d349f",
   "metadata": {},
   "outputs": [],
   "source": [
    "#importing the selenium webdriver\n",
    "from selenium import webdriver\n",
    "\n",
    "#Activating chrome browser\n",
    "driver=webdriver.Chrome(\"Chromedriver.exe\")\n",
    "\n",
    "#lets Automate the searchbar\n",
    "driver.maximize_window()"
   ]
  },
  {
   "cell_type": "code",
   "execution_count": 177,
   "id": "46645563",
   "metadata": {},
   "outputs": [],
   "source": [
    "from selenium.webdriver.support.ui import WebDriverWait\n",
    "from selenium.webdriver.support import expected_conditions as EC\n",
    "\n"
   ]
  },
  {
   "cell_type": "code",
   "execution_count": 178,
   "id": "45e024f7",
   "metadata": {},
   "outputs": [],
   "source": [
    "#operating the homepage of flipkat\n",
    "driver.get('https://www.flipkart.com/')\n",
    "time.sleep(3)"
   ]
  },
  {
   "cell_type": "code",
   "execution_count": 179,
   "id": "5fc21eb5",
   "metadata": {},
   "outputs": [],
   "source": [
    "#removing login popup\n",
    "product_search=driver.find_element(By.XPATH,'//button[@class=\"_2KpZ6l _2doB4z\"]')\n",
    "product_search.click()"
   ]
  },
  {
   "cell_type": "code",
   "execution_count": 180,
   "id": "8e28f161",
   "metadata": {},
   "outputs": [],
   "source": [
    "#Entering “Oneplus” in the search field \n",
    "product_search=driver.find_element(By.CLASS_NAME,\"_3704LK\")\n",
    "product_search.send_keys(\"Oneplus Nord\")"
   ]
  },
  {
   "cell_type": "code",
   "execution_count": 182,
   "id": "9d53f9e3",
   "metadata": {},
   "outputs": [],
   "source": [
    "#clicking the search\n",
    "y= driver.find_element(By.XPATH,'//button[@class=\"L0Z3Pu\"]')\n",
    "x=y.click()\n",
    "time.sleep(3)\n",
    "\n",
    "#we will check one link and do loop for the rest of the links"
   ]
  },
  {
   "cell_type": "code",
   "execution_count": 183,
   "id": "80eade9f",
   "metadata": {},
   "outputs": [],
   "source": [
    "window_before = driver.window_handles[0]"
   ]
  },
  {
   "cell_type": "code",
   "execution_count": 184,
   "id": "8350511f",
   "metadata": {},
   "outputs": [],
   "source": [
    "#clicking the initial result of the model\n",
    "y= driver.find_element(By.XPATH,'//div[@class=\"_4rR01T\"]')\n",
    "x=y.click()\n",
    "time.sleep(3)\n"
   ]
  },
  {
   "cell_type": "code",
   "execution_count": 185,
   "id": "96309086",
   "metadata": {},
   "outputs": [],
   "source": [
    "window_after = driver.window_handles[1]"
   ]
  },
  {
   "cell_type": "code",
   "execution_count": 277,
   "id": "ec6c3334",
   "metadata": {},
   "outputs": [],
   "source": [
    "driver.switch_to.window(window_after)"
   ]
  },
  {
   "cell_type": "code",
   "execution_count": 286,
   "id": "91f650e2",
   "metadata": {},
   "outputs": [],
   "source": [
    "Brand=[]\n",
    "Smartphone=[]\n",
    "Colour=[]\n",
    "RAM=[]\n",
    "ROM=[]\n",
    "Primary_Camera=[]\n",
    "Secondary_Camera=[]\n",
    "Display_Size=[]\n",
    "Battery_Capacity=[]\n",
    "Price=[]\n",
    "URL=[]\n",
    "\n"
   ]
  },
  {
   "cell_type": "code",
   "execution_count": 287,
   "id": "a7374352",
   "metadata": {},
   "outputs": [],
   "source": [
    "\n",
    "\n",
    "\n",
    "\n",
    "try:\n",
    "    ram_ = driver.find_element(By.XPATH,'//li[@class=\"_21Ahn-\"][1]')\n",
    "    RAM.append(ram_.text.split('|')[0])\n",
    "    rom_ = driver.find_element(By.XPATH,'//li[@class=\"_21Ahn-\"][1]')\n",
    "    ROM.append(rom_.text.split('|')[1])\n",
    "    displ = driver.find_element(By.XPATH,'//li[@class=\"_21Ahn-\"][2]')\n",
    "    Display_Size.append(displ.text)\n",
    "    Primary=driver.find_element(By.XPATH,'//li[@class=\"_21Ahn-\"][3]')\n",
    "    Primary_Camera.append(Primary.text)\n",
    "    \n",
    "    Pric=driver.find_element(By.XPATH,'//div[@class=\"_30jeq3 _15TjXn\"]')\n",
    "    Price.append(Pric.text)\n",
    "    Battery=driver.find_element(By.XPATH,'//li[@class=\"_21Ahn-\"][4]')\n",
    "    Battery_Capacity.append(Battery.text)\n",
    "    url_ = Pric=driver.find_element(By.XPATH,'//a[@class=\"_2Vcerk row\"]')\n",
    "    URL.append(url_.get_attribute('href'))\n",
    "    Secondary=driver.find_element(By.XPATH,'//li[@class=\"_21Ahn-\"][3]')\n",
    "    Secondary_Camera.append(Secondary.text.split('|')[0])\n",
    "except NoSuchElementException as e:\n",
    "    print(\"exception raised:\",e)\n",
    "    \n",
    "    Secondary_Camera.append('-')"
   ]
  },
  {
   "cell_type": "code",
   "execution_count": 285,
   "id": "75bd7370",
   "metadata": {},
   "outputs": [
    {
     "ename": "IndexError",
     "evalue": "list index out of range",
     "output_type": "error",
     "traceback": [
      "\u001b[1;31m---------------------------------------------------------------------------\u001b[0m",
      "\u001b[1;31mIndexError\u001b[0m                                Traceback (most recent call last)",
      "Input \u001b[1;32mIn [285]\u001b[0m, in \u001b[0;36m<cell line: 2>\u001b[1;34m()\u001b[0m\n\u001b[0;32m      1\u001b[0m Secondary\u001b[38;5;241m=\u001b[39mdriver\u001b[38;5;241m.\u001b[39mfind_element(By\u001b[38;5;241m.\u001b[39mXPATH,\u001b[38;5;124m'\u001b[39m\u001b[38;5;124m//li[@class=\u001b[39m\u001b[38;5;124m\"\u001b[39m\u001b[38;5;124m_21Ahn-\u001b[39m\u001b[38;5;124m\"\u001b[39m\u001b[38;5;124m][3]\u001b[39m\u001b[38;5;124m'\u001b[39m)\n\u001b[1;32m----> 2\u001b[0m Secondary_Camera\u001b[38;5;241m.\u001b[39mappend(\u001b[43mSecondary\u001b[49m\u001b[38;5;241;43m.\u001b[39;49m\u001b[43mtext\u001b[49m\u001b[38;5;241;43m.\u001b[39;49m\u001b[43msplit\u001b[49m\u001b[43m(\u001b[49m\u001b[38;5;124;43m'\u001b[39;49m\u001b[38;5;124;43m|\u001b[39;49m\u001b[38;5;124;43m'\u001b[39;49m\u001b[43m)\u001b[49m\u001b[43m[\u001b[49m\u001b[38;5;241;43m1\u001b[39;49m\u001b[43m]\u001b[49m)\n",
      "\u001b[1;31mIndexError\u001b[0m: list index out of range"
     ]
    }
   ],
   "source": [
    "Secondary=driver.find_element(By.XPATH,'//li[@class=\"_21Ahn-\"][3]')\n",
    "Secondary_Camera.append(Secondary.text.split('|')[1])"
   ]
  },
  {
   "cell_type": "code",
   "execution_count": 290,
   "id": "6b817c1f",
   "metadata": {},
   "outputs": [
    {
     "data": {
      "text/plain": [
       "[' 256 GB ROM']"
      ]
     },
     "execution_count": 290,
     "metadata": {},
     "output_type": "execute_result"
    }
   ],
   "source": [
    "ROM"
   ]
  },
  {
   "cell_type": "code",
   "execution_count": 288,
   "id": "4eee2e1b",
   "metadata": {},
   "outputs": [
    {
     "data": {
      "text/plain": [
       "['12 GB RAM ']"
      ]
     },
     "execution_count": 288,
     "metadata": {},
     "output_type": "execute_result"
    }
   ],
   "source": [
    "RAM"
   ]
  },
  {
   "cell_type": "code",
   "execution_count": 289,
   "id": "8d81e55a",
   "metadata": {},
   "outputs": [
    {
     "data": {
      "text/plain": [
       "['17.02 cm (6.7 inch) Display']"
      ]
     },
     "execution_count": 289,
     "metadata": {},
     "output_type": "execute_result"
    }
   ],
   "source": [
    "Display_Size"
   ]
  },
  {
   "cell_type": "code",
   "execution_count": 291,
   "id": "f1704f06",
   "metadata": {},
   "outputs": [
    {
     "data": {
      "text/plain": [
       "['₹43,999']"
      ]
     },
     "execution_count": 291,
     "metadata": {},
     "output_type": "execute_result"
    }
   ],
   "source": [
    "Price"
   ]
  },
  {
   "cell_type": "code",
   "execution_count": 292,
   "id": "a46ed29d",
   "metadata": {},
   "outputs": [
    {
     "data": {
      "text/plain": [
       "['50MP Rear Camera']"
      ]
     },
     "execution_count": 292,
     "metadata": {},
     "output_type": "execute_result"
    }
   ],
   "source": [
    "Secondary_Camera"
   ]
  },
  {
   "cell_type": "code",
   "execution_count": 293,
   "id": "83e7e97e",
   "metadata": {},
   "outputs": [
    {
     "data": {
      "text/plain": [
       "['https://www.flipkart.com/google-pixel-6a-charcoal-128-gb/p/itme5ae89135d44e?pid=MOBGFKX5YUXD74Z3&otracker=pp_reco_Similar%2BSpecs%2BBetter%2BPrice&otracker1=pp_reco_PINNED_productRecommendation%2FproductUpgrade_Similar%2BSpecs%2BBetter%2BPrice_SOLO_VIEW_wc_view-all']"
      ]
     },
     "execution_count": 293,
     "metadata": {},
     "output_type": "execute_result"
    }
   ],
   "source": [
    "URL"
   ]
  }
 ],
 "metadata": {
  "kernelspec": {
   "display_name": "Python 3 (ipykernel)",
   "language": "python",
   "name": "python3"
  },
  "language_info": {
   "codemirror_mode": {
    "name": "ipython",
    "version": 3
   },
   "file_extension": ".py",
   "mimetype": "text/x-python",
   "name": "python",
   "nbconvert_exporter": "python",
   "pygments_lexer": "ipython3",
   "version": "3.9.12"
  }
 },
 "nbformat": 4,
 "nbformat_minor": 5
}
