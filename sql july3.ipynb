{
 "cells": [
  {
   "cell_type": "code",
   "execution_count": 1,
   "id": "b0bd27c7",
   "metadata": {},
   "outputs": [],
   "source": [
    "#!/usr/bin/python\n",
    "\n",
    "import sqlite3"
   ]
  },
  {
   "cell_type": "code",
   "execution_count": 2,
   "id": "eb54b2fe",
   "metadata": {},
   "outputs": [],
   "source": [
    "#connecting with the database(if there is no database exists,it wil create one)\n",
    "\n",
    "db = sqlite3.connect(\"student_database.db\")\n"
   ]
  },
  {
   "cell_type": "code",
   "execution_count": 3,
   "id": "0695d2b7",
   "metadata": {},
   "outputs": [],
   "source": [
    "#declare cursor\n",
    "cursor = db.cursor()"
   ]
  },
  {
   "cell_type": "code",
   "execution_count": 5,
   "id": "8bd3278f",
   "metadata": {},
   "outputs": [
    {
     "data": {
      "text/plain": [
       "<sqlite3.Cursor at 0x1c535f0cb20>"
      ]
     },
     "execution_count": 5,
     "metadata": {},
     "output_type": "execute_result"
    }
   ],
   "source": [
    "#create table\n",
    "cursor.execute(\"CREATE TABLE student_data1(phone_number INT PRIMARY KEY,email_id TEXT,course_name TEXT, fee INT)\")\n"
   ]
  },
  {
   "cell_type": "code",
   "execution_count": 6,
   "id": "a550c657",
   "metadata": {},
   "outputs": [],
   "source": [
    "cursor.execute(\"INSERT INTO student_data1(phone_number,email_id ,course_name , fee) values (9567124571,'ram@gmail.com','DATA_SCIENCE',30000)\")\n",
    "\n",
    "db.commit()"
   ]
  },
  {
   "cell_type": "code",
   "execution_count": 7,
   "id": "86b16671",
   "metadata": {},
   "outputs": [
    {
     "name": "stdout",
     "output_type": "stream",
     "text": [
      "1 Record(s) inserted\n"
     ]
    }
   ],
   "source": [
    "#count of records inserted\n",
    "print(cursor.rowcount,\"Record(s) inserted\")\n"
   ]
  },
  {
   "cell_type": "code",
   "execution_count": 8,
   "id": "e1203d91",
   "metadata": {},
   "outputs": [
    {
     "name": "stdout",
     "output_type": "stream",
     "text": [
      "(9567124578, 'ram@gmail.com', 'DATA_SCIENCE', 30000)\n",
      "(9567124571, 'ram@gmail.com', 'DATA_SCIENCE', 30000)\n"
     ]
    }
   ],
   "source": [
    "results =cursor.execute(\"select * from student_data\")\n",
    "for row in results:\n",
    "    print(row)\n"
   ]
  },
  {
   "cell_type": "code",
   "execution_count": null,
   "id": "2e5a1afc",
   "metadata": {},
   "outputs": [],
   "source": []
  },
  {
   "cell_type": "code",
   "execution_count": 22,
   "id": "e91f1f7e",
   "metadata": {},
   "outputs": [
    {
     "ename": "AttributeError",
     "evalue": "'tuple' object has no attribute 'split'",
     "output_type": "error",
     "traceback": [
      "\u001b[1;31m---------------------------------------------------------------------------\u001b[0m",
      "\u001b[1;31mAttributeError\u001b[0m                            Traceback (most recent call last)",
      "Input \u001b[1;32mIn [22]\u001b[0m, in \u001b[0;36m<cell line: 1>\u001b[1;34m()\u001b[0m\n\u001b[0;32m      1\u001b[0m \u001b[38;5;28;01mwith\u001b[39;00m \u001b[38;5;28mopen\u001b[39m(\u001b[38;5;124mr\u001b[39m\u001b[38;5;124m'\u001b[39m\u001b[38;5;124mC:\u001b[39m\u001b[38;5;124m\\\u001b[39m\u001b[38;5;124mUsers\u001b[39m\u001b[38;5;124m\\\u001b[39m\u001b[38;5;124m315ra\u001b[39m\u001b[38;5;124m\\\u001b[39m\u001b[38;5;124mOneDrive\u001b[39m\u001b[38;5;124m\\\u001b[39m\u001b[38;5;124mDesktop\u001b[39m\u001b[38;5;124m\\\u001b[39m\u001b[38;5;124mnotes\u001b[39m\u001b[38;5;124m\\\u001b[39m\u001b[38;5;124mnotes-main\u001b[39m\u001b[38;5;124m\\\u001b[39m\u001b[38;5;124mDT_Students.csv\u001b[39m\u001b[38;5;124m'\u001b[39m) \u001b[38;5;28;01mas\u001b[39;00m file:\n\u001b[0;32m      2\u001b[0m     no_of_records \u001b[38;5;241m=\u001b[39m \u001b[38;5;241m0\u001b[39m\n\u001b[1;32m----> 3\u001b[0m     cursor\u001b[38;5;241m.\u001b[39mexecute(\u001b[38;5;124m\"\u001b[39m\u001b[38;5;124minsert into student_data values(?,?,?,?)\u001b[39m\u001b[38;5;124m\"\u001b[39m,\u001b[43mrow\u001b[49m\u001b[38;5;241;43m.\u001b[39;49m\u001b[43msplit\u001b[49m(\u001b[38;5;124m\"\u001b[39m\u001b[38;5;124m,\u001b[39m\u001b[38;5;124m\"\u001b[39m))\n\u001b[0;32m      4\u001b[0m     db\u001b[38;5;241m.\u001b[39mcommit()\n\u001b[0;32m      5\u001b[0m     no_of_records\u001b[38;5;241m+\u001b[39m\u001b[38;5;241m=\u001b[39m\u001b[38;5;241m1\u001b[39m\n",
      "\u001b[1;31mAttributeError\u001b[0m: 'tuple' object has no attribute 'split'"
     ]
    }
   ],
   "source": [
    "with open(r'C:\\Users\\315ra\\OneDrive\\Desktop\\notes\\notes-main\\DT_Students.csv') as file:\n",
    "    no_of_records = 0\n",
    "    cursor.execute(\"insert into student_data values(?,?,?,?)\",row.split(\",\"))\n",
    "    db.commit()\n",
    "    no_of_records+=1\n",
    "print(no_of_records,'records inserted')"
   ]
  },
  {
   "cell_type": "code",
   "execution_count": null,
   "id": "6a26a2e5",
   "metadata": {},
   "outputs": [],
   "source": []
  },
  {
   "cell_type": "code",
   "execution_count": null,
   "id": "b894d544",
   "metadata": {},
   "outputs": [],
   "source": []
  },
  {
   "cell_type": "code",
   "execution_count": null,
   "id": "a385897b",
   "metadata": {},
   "outputs": [],
   "source": [
    "DT_Students_latest"
   ]
  },
  {
   "cell_type": "code",
   "execution_count": null,
   "id": "37ec458c",
   "metadata": {},
   "outputs": [],
   "source": []
  },
  {
   "cell_type": "code",
   "execution_count": null,
   "id": "62a22211",
   "metadata": {},
   "outputs": [],
   "source": []
  },
  {
   "cell_type": "code",
   "execution_count": null,
   "id": "2cb89c2b",
   "metadata": {},
   "outputs": [],
   "source": []
  },
  {
   "cell_type": "code",
   "execution_count": null,
   "id": "d3191063",
   "metadata": {},
   "outputs": [],
   "source": []
  },
  {
   "cell_type": "code",
   "execution_count": null,
   "id": "0b27d470",
   "metadata": {},
   "outputs": [],
   "source": []
  }
 ],
 "metadata": {
  "kernelspec": {
   "display_name": "Python 3 (ipykernel)",
   "language": "python",
   "name": "python3"
  },
  "language_info": {
   "codemirror_mode": {
    "name": "ipython",
    "version": 3
   },
   "file_extension": ".py",
   "mimetype": "text/x-python",
   "name": "python",
   "nbconvert_exporter": "python",
   "pygments_lexer": "ipython3",
   "version": "3.9.12"
  }
 },
 "nbformat": 4,
 "nbformat_minor": 5
}
