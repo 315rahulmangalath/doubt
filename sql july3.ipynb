{
 "cells": [
  {
   "cell_type": "code",
   "execution_count": 1,
   "id": "b0bd27c7",
   "metadata": {},
   "outputs": [],
   "source": [
    "#!/usr/bin/python\n",
    "\n",
    "import sqlite3"
   ]
  },
  {
   "cell_type": "code",
   "execution_count": 3,
   "id": "eb54b2fe",
   "metadata": {},
   "outputs": [],
   "source": [
    "#connecting with the database(if there is no database exists,it wil create one)\n",
    "\n",
    "db = sqlite3.connect(\"student_database.db\")\n"
   ]
  },
  {
   "cell_type": "code",
   "execution_count": 4,
   "id": "0695d2b7",
   "metadata": {},
   "outputs": [],
   "source": [
    "#declare cursor\n",
    "cursor = db.cursor()"
   ]
  },
  {
   "cell_type": "code",
   "execution_count": 8,
   "id": "8bd3278f",
   "metadata": {},
   "outputs": [
    {
     "data": {
      "text/plain": [
       "<sqlite3.Cursor at 0x1f00d3bca40>"
      ]
     },
     "execution_count": 8,
     "metadata": {},
     "output_type": "execute_result"
    }
   ],
   "source": [
    "#create table\n",
    "cursor.execute(\"CREATE TABLE student_data(phone_number INT PRIMARY KEY,email_id TEXT,course_name TEXT, fee INT)\")\n"
   ]
  },
  {
   "cell_type": "code",
   "execution_count": 13,
   "id": "a550c657",
   "metadata": {},
   "outputs": [],
   "source": [
    "cursor.execute(\"INSERT INTO student_data(phone_number,email_id ,course_name , fee) values (9567124571,'ram@gmail.com','DATA_SCIENCE',30000)\")\n",
    "\n",
    "db.commit()"
   ]
  },
  {
   "cell_type": "code",
   "execution_count": 14,
   "id": "86b16671",
   "metadata": {},
   "outputs": [
    {
     "name": "stdout",
     "output_type": "stream",
     "text": [
      "1 Record(s) inserted\n"
     ]
    }
   ],
   "source": [
    "#count of records inserted\n",
    "print(cursor.rowcount,\"Record(s) inserted\")\n"
   ]
  },
  {
   "cell_type": "code",
   "execution_count": 17,
   "id": "e1203d91",
   "metadata": {},
   "outputs": [
    {
     "name": "stdout",
     "output_type": "stream",
     "text": [
      "(9567124578, 'ram@gmail.com', 'DATA_SCIENCE', 30000)\n",
      "(9567124571, 'ram@gmail.com', 'DATA_SCIENCE', 30000)\n"
     ]
    }
   ],
   "source": [
    "results =cursor.execute(\"select * from student_data\")\n",
    "for row in results:\n",
    "    print(row)\n"
   ]
  },
  {
   "cell_type": "code",
   "execution_count": null,
   "id": "2e5a1afc",
   "metadata": {},
   "outputs": [],
   "source": []
  },
  {
   "cell_type": "code",
   "execution_count": 73,
   "id": "e91f1f7e",
   "metadata": {},
   "outputs": [
    {
     "ename": "SyntaxError",
     "evalue": "invalid syntax (3565337910.py, line 5)",
     "output_type": "error",
     "traceback": [
      "\u001b[1;36m  Input \u001b[1;32mIn [73]\u001b[1;36m\u001b[0m\n\u001b[1;33m    no_of_records+=1\u001b[0m\n\u001b[1;37m    ^\u001b[0m\n\u001b[1;31mSyntaxError\u001b[0m\u001b[1;31m:\u001b[0m invalid syntax\n"
     ]
    }
   ],
   "source": [
    "with open(r'C:\\Users\\315ra\\OneDrive\\Desktop\\notes\\notes-main\\DT_Students.csv', encoding='utf-8') as file:\n",
    "    no_of_records = 0\n",
    "    cursor.execute((\"insert into student_data values[?,?,?,?]\",row.split(\",\")))\n",
    "    db.commit()\n",
    "    no_of_records+=1\n",
    "print(no_of_records,'records inserted')"
   ]
  },
  {
   "cell_type": "code",
   "execution_count": null,
   "id": "6a26a2e5",
   "metadata": {},
   "outputs": [],
   "source": []
  },
  {
   "cell_type": "code",
   "execution_count": null,
   "id": "d3191063",
   "metadata": {},
   "outputs": [],
   "source": []
  }
 ],
 "metadata": {
  "kernelspec": {
   "display_name": "Python 3 (ipykernel)",
   "language": "python",
   "name": "python3"
  },
  "language_info": {
   "codemirror_mode": {
    "name": "ipython",
    "version": 3
   },
   "file_extension": ".py",
   "mimetype": "text/x-python",
   "name": "python",
   "nbconvert_exporter": "python",
   "pygments_lexer": "ipython3",
   "version": "3.9.12"
  }
 },
 "nbformat": 4,
 "nbformat_minor": 5
}
